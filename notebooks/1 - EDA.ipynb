{
  "cells": [
    {
      "cell_type": "markdown",
      "metadata": {
        "id": "view-in-github",
        "colab_type": "text"
      },
      "source": [
        "<a href=\"https://colab.research.google.com/github/aronpwong/ds_midterm_24/blob/main/notebooks/1%20-%20EDA.ipynb\" target=\"_parent\"><img src=\"https://colab.research.google.com/assets/colab-badge.svg\" alt=\"Open In Colab\"/></a>"
      ]
    },
    {
      "cell_type": "markdown",
      "metadata": {
        "id": "WT2rCaYgz1vR"
      },
      "source": [
        "\n",
        "- The os module has a perfect method to list files in a directory.\n",
        "- Pandas json normalize could work here but is not necessary to convert the JSON data to a dataframe.\n",
        "- You may need a nested for-loop to access each sale!\n",
        "- We've put a lot of time into creating the structure of this repository, and it's a good example for future projects.  In the file functions_variables.py, there is an example function that you can import and use.  If you have any variables, functions or classes that you want to make, they can be put in the functions_variables.py file and imported into a notebook.  Note that only .py files can be imported into a notebook. If you want to import everything from a .py file, you can use the following:\n",
        "```python\n",
        "from functions_variables import *\n",
        "```\n",
        "If you just import functions_variables, then each object from the file will need to be prepended with \"functions_variables\"\\\n",
        "Using this .py file will keep your notebooks very organized and make it easier to reuse code between notebooks."
      ]
    },
    {
      "cell_type": "code",
      "execution_count": 3,
      "metadata": {
        "id": "u76pBOEvz1vS",
        "outputId": "da79736a-3f45-4a6f-a53e-3bb275226dc1",
        "colab": {
          "base_uri": "https://localhost:8080/",
          "height": 349
        }
      },
      "outputs": [
        {
          "output_type": "error",
          "ename": "ModuleNotFoundError",
          "evalue": "No module named 'functions_variables'",
          "traceback": [
            "\u001b[0;31m---------------------------------------------------------------------------\u001b[0m",
            "\u001b[0;31mModuleNotFoundError\u001b[0m                       Traceback (most recent call last)",
            "\u001b[0;32m<ipython-input-3-e6f20f1625f8>\u001b[0m in \u001b[0;36m<cell line: 7>\u001b[0;34m()\u001b[0m\n\u001b[1;32m      5\u001b[0m \u001b[0;32mimport\u001b[0m \u001b[0mjson\u001b[0m\u001b[0;34m\u001b[0m\u001b[0;34m\u001b[0m\u001b[0m\n\u001b[1;32m      6\u001b[0m \u001b[0;32mfrom\u001b[0m \u001b[0mpprint\u001b[0m \u001b[0;32mimport\u001b[0m \u001b[0mpprint\u001b[0m\u001b[0;34m\u001b[0m\u001b[0;34m\u001b[0m\u001b[0m\n\u001b[0;32m----> 7\u001b[0;31m \u001b[0;32mfrom\u001b[0m \u001b[0mfunctions_variables\u001b[0m \u001b[0;32mimport\u001b[0m \u001b[0mencode_tags\u001b[0m\u001b[0;34m\u001b[0m\u001b[0;34m\u001b[0m\u001b[0m\n\u001b[0m",
            "\u001b[0;31mModuleNotFoundError\u001b[0m: No module named 'functions_variables'",
            "",
            "\u001b[0;31m---------------------------------------------------------------------------\u001b[0;32m\nNOTE: If your import is failing due to a missing package, you can\nmanually install dependencies using either !pip or !apt.\n\nTo view examples of installing some common dependencies, click the\n\"Open Examples\" button below.\n\u001b[0;31m---------------------------------------------------------------------------\u001b[0m\n"
          ],
          "errorDetails": {
            "actions": [
              {
                "action": "open_url",
                "actionText": "Open Examples",
                "url": "/notebooks/snippets/importing_libraries.ipynb"
              }
            ]
          }
        }
      ],
      "source": [
        "# (this is not an exhaustive list of libraries)\n",
        "import pandas as pd\n",
        "import numpy as np\n",
        "import os\n",
        "import json\n",
        "from pprint import pprint\n",
        "from functions_variables import encode_tags"
      ]
    },
    {
      "cell_type": "code",
      "source": [
        "!git clone https://github.com/aronpwong/ds_midterm_24.git"
      ],
      "metadata": {
        "id": "m5Bf7HE3z99Z",
        "outputId": "7c3f62ea-6c73-4905-ef78-202fb81f27f9",
        "colab": {
          "base_uri": "https://localhost:8080/"
        }
      },
      "execution_count": 1,
      "outputs": [
        {
          "output_type": "stream",
          "name": "stdout",
          "text": [
            "Cloning into 'ds_midterm_24'...\n",
            "remote: Enumerating objects: 233, done.\u001b[K\n",
            "remote: Counting objects: 100% (233/233), done.\u001b[K\n",
            "remote: Compressing objects: 100% (26/26), done.\u001b[K\n",
            "remote: Total 233 (delta 205), reused 225 (delta 205), pack-reused 0\u001b[K\n",
            "Receiving objects: 100% (233/233), 3.37 MiB | 15.05 MiB/s, done.\n",
            "Resolving deltas: 100% (205/205), done.\n"
          ]
        }
      ]
    },
    {
      "cell_type": "code",
      "execution_count": 4,
      "metadata": {
        "id": "qHj92r2Sz1vT",
        "outputId": "d9beebca-f30b-4973-d364-d945cb2f87b2",
        "colab": {
          "base_uri": "https://localhost:8080/"
        }
      },
      "outputs": [
        {
          "output_type": "stream",
          "name": "stdout",
          "text": [
            "     status                                               data\n",
            "0       200                                                 42\n",
            "1       200  [{'primary_photo': {'href': 'https://ap.rdcpix...\n",
            "2       200                                                872\n",
            "3       200                                                 42\n",
            "4       200  [{'primary_photo': {'href': 'https://ap.rdcpix...\n",
            "..      ...                                                ...\n",
            "745     200                                                 {}\n",
            "746     200                                                  0\n",
            "747     200                                                 42\n",
            "748     200  [{'primary_photo': {'href': 'https://ap.rdcpix...\n",
            "749     200                                                932\n",
            "\n",
            "[750 rows x 2 columns]\n"
          ]
        }
      ],
      "source": [
        "# load one file first to see what type of data you're dealing with and what attributes it has\n",
        "\n",
        "data_dir = '/content/ds_midterm_24/data'\n",
        "\n",
        "files = [f for f in os.listdir(data_dir) if f.endswith('.json')]\n",
        "\n",
        "\n",
        "dfs = []\n",
        "\n",
        "for file in files:\n",
        "    file_path = os.path.join(data_dir, file)\n",
        "    df = pd.read_json(file_path)\n",
        "    dfs.append(df)\n",
        "\n",
        "combined_df = pd.concat(dfs, ignore_index=True)\n",
        "\n",
        "print(combined_df)\n",
        "\n"
      ]
    },
    {
      "cell_type": "markdown",
      "metadata": {
        "id": "UGefu0Jtz1vT"
      },
      "source": [
        "At this point, ensure that you have all sales in a dataframe.\n",
        "- Is each cell one value, or do some cells have lists?\n",
        "- Maybe the \"tags\" will help create some features.\n",
        "- What are the data types of each column?\n",
        "- Some sales may not actually include the sale price.  These rows should be dropped.\n",
        "- Some sales don't include the property type.\n",
        "- There are a lot of None values.  Should these be dropped or replaced with something?"
      ]
    },
    {
      "cell_type": "code",
      "execution_count": null,
      "metadata": {
        "id": "VGMTZ_-Pz1vT"
      },
      "outputs": [],
      "source": [
        "# load and concatenate data here\n",
        "# drop or replace values as necessary"
      ]
    },
    {
      "cell_type": "markdown",
      "metadata": {
        "id": "CDxIY8CQz1vT"
      },
      "source": [
        "Consider the fact that with tags, there are a lot of categorical variables.\n",
        "- How many columns would we have if we OHE tags, city and state?\n",
        "- Perhaps we can get rid of tags that have a low frequency."
      ]
    },
    {
      "cell_type": "code",
      "execution_count": null,
      "metadata": {
        "id": "T5YpVT0-z1vT"
      },
      "outputs": [],
      "source": [
        "# OHE categorical variables here\n",
        "# tags will have to be done manually"
      ]
    },
    {
      "cell_type": "markdown",
      "metadata": {
        "id": "Ttia6KH3z1vU"
      },
      "source": [
        "- Sales will vary drastically between cities and states.  Is there a way to keep information about which city it is without OHE such as using central tendency?\n",
        "- Could we label encode or ordinal encode?  Yes, but this may have undesirable effects, giving nominal data ordinal values.\n",
        "- If you replace cities or states with numerical values, make sure that the data is split so that we don't leak data into the training selection. This is a great time to train test split. Compute on the training data, and join these values to the test data\n",
        "- Drop columns that aren't needed.\n",
        "- Don't keep the list price because it will be too close to the sale price."
      ]
    },
    {
      "cell_type": "code",
      "execution_count": null,
      "metadata": {
        "id": "_osifrnuz1vU"
      },
      "outputs": [],
      "source": [
        "# perform train test split here\n",
        "# do something with state and city\n",
        "# drop any other not needed columns"
      ]
    },
    {
      "cell_type": "markdown",
      "metadata": {
        "id": "rlb3KzLqz1vU"
      },
      "source": [
        "**STRETCH**\n",
        "\n",
        "- You're not limited to just using the data provided to you. Think/ do some research about other features that might be useful to predict housing prices.\n",
        "- Can you import and join this data? Make sure you do any necessary preprocessing and make sure it is joined correctly.\n",
        "- Example suggestion: could mortgage interest rates in the year of the listing affect the price?"
      ]
    },
    {
      "cell_type": "code",
      "execution_count": null,
      "metadata": {
        "id": "57XrSQwsz1vU"
      },
      "outputs": [],
      "source": [
        "# import, join and preprocess new data here"
      ]
    },
    {
      "cell_type": "markdown",
      "metadata": {
        "id": "diEukOk2z1vU"
      },
      "source": [
        "Remember all of the EDA that you've been learning about?  Now is a perfect time for it!\n",
        "- Look at distributions of numerical variables to see the shape of the data and detect outliers.\n",
        "- Scatterplots of a numerical variable and the target go a long way to show correlations.\n",
        "- A heatmap will help detect highly correlated features, and we don't want these.\n",
        "- Is there any overlap in any of the features? (redundant information, like number of this or that room...)"
      ]
    },
    {
      "cell_type": "code",
      "execution_count": null,
      "metadata": {
        "id": "rI_AEREkz1vU"
      },
      "outputs": [],
      "source": [
        "# perform EDA here"
      ]
    },
    {
      "cell_type": "markdown",
      "metadata": {
        "id": "CxIfWpmaz1vU"
      },
      "source": [
        "Now is a great time to scale the data and save it once it's preprocessed.\n",
        "- You can save it in your data folder, but you may want to make a new `processed/` subfolder to keep it organized"
      ]
    },
    {
      "cell_type": "code",
      "execution_count": null,
      "metadata": {
        "id": "g5VDiM1cz1vU"
      },
      "outputs": [],
      "source": []
    }
  ],
  "metadata": {
    "kernelspec": {
      "display_name": "Python 3",
      "language": "python",
      "name": "python3"
    },
    "language_info": {
      "codemirror_mode": {
        "name": "ipython",
        "version": 3
      },
      "file_extension": ".py",
      "mimetype": "text/x-python",
      "name": "python",
      "nbconvert_exporter": "python",
      "pygments_lexer": "ipython3",
      "version": "3.9.0"
    },
    "colab": {
      "provenance": [],
      "include_colab_link": true
    }
  },
  "nbformat": 4,
  "nbformat_minor": 0
}